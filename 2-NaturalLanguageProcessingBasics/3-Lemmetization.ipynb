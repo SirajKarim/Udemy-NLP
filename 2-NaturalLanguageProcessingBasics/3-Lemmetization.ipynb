{
 "cells": [
  {
   "cell_type": "code",
   "execution_count": 2,
   "metadata": {},
   "outputs": [],
   "source": [
    "import spacy"
   ]
  },
  {
   "cell_type": "code",
   "execution_count": 3,
   "metadata": {},
   "outputs": [],
   "source": [
    "nlp = spacy.load('en_core_web_sm')"
   ]
  },
  {
   "cell_type": "code",
   "execution_count": 6,
   "metadata": {},
   "outputs": [],
   "source": [
    "doc = nlp(u'I am a runner runnig in a race i love runnig since i ran today')"
   ]
  },
  {
   "cell_type": "markdown",
   "metadata": {},
   "source": [
    "for token in doc:\n",
    "    print(token.text,'\\t',token.pos_,'\\t',token.lemma,'\\t',token.lemma_)"
   ]
  },
  {
   "cell_type": "code",
   "execution_count": 28,
   "metadata": {},
   "outputs": [],
   "source": [
    "def show_lemmas(text):\n",
    "    for token in text:\n",
    "        print(f'{token.text:{8}} {token.pos_:{6}} {token.lemma:<{22}}{token.lemma_:{9}}')"
   ]
  },
  {
   "cell_type": "code",
   "execution_count": 29,
   "metadata": {},
   "outputs": [
    {
     "name": "stdout",
     "output_type": "stream",
     "text": [
      "I        PRON   561228191312463089    -PRON-   \n",
      "am       AUX    10382539506755952630  be       \n",
      "a        DET    11901859001352538922  a        \n",
      "runner   NOUN   12640964157389618806  runner   \n",
      "runnig   NOUN   8425030056823529133   runnig   \n",
      "in       ADP    3002984154512732771   in       \n",
      "a        DET    11901859001352538922  a        \n",
      "race     NOUN   8048469955494714898   race     \n",
      "i        PRON   5097672513440128799   i        \n",
      "love     VERB   3702023516439754181   love     \n",
      "runnig   PROPN  8425030056823529133   runnig   \n",
      "since    SCONJ  10066841407251338481  since    \n",
      "i        PRON   5097672513440128799   i        \n",
      "ran      VERB   12767647472892411841  run      \n",
      "today    NOUN   11042482332948150395  today    \n"
     ]
    }
   ],
   "source": [
    "show_lemmas(doc)"
   ]
  },
  {
   "cell_type": "code",
   "execution_count": 30,
   "metadata": {},
   "outputs": [
    {
     "name": "stdout",
     "output_type": "stream",
     "text": [
      "I        PRON   561228191312463089    -PRON-   \n",
      "saw      VERB   11925638236994514241  see      \n",
      "eighteen NUM    9609336664675087640   eighteen \n",
      "mice     NOUN   1384165645700560590   mouse    \n",
      "today    NOUN   11042482332948150395  today    \n",
      "!        PUNCT  17494803046312582752  !        \n"
     ]
    }
   ],
   "source": [
    "doc2 = nlp(u\"I saw eighteen mice today!\")\n",
    "\n",
    "show_lemmas(doc2)"
   ]
  },
  {
   "cell_type": "code",
   "execution_count": 33,
   "metadata": {},
   "outputs": [
    {
     "name": "stdout",
     "output_type": "stream",
     "text": [
      "I        PRON   561228191312463089    -PRON-   \n",
      "am       AUX    10382539506755952630  be       \n",
      "meeting  VERB   6880656908171229526   meet     \n",
      "him      PRON   561228191312463089    -PRON-   \n",
      "tomorrow NOUN   3573583789758258062   tomorrow \n",
      "at       ADP    11667289587015813222  at       \n",
      "the      DET    7425985699627899538   the      \n",
      "meeting  NOUN   14798207169164081740  meeting  \n",
      ".        PUNCT  12646065887601541794  .        \n"
     ]
    }
   ],
   "source": [
    "doc3 = nlp(u\"I am meeting him tomorrow at the meeting.\")\n",
    "\n",
    "show_lemmas(doc3)"
   ]
  },
  {
   "cell_type": "code",
   "execution_count": 34,
   "metadata": {},
   "outputs": [
    {
     "name": "stdout",
     "output_type": "stream",
     "text": [
      "That     DET    4380130941430378203   that     \n",
      "'s       AUX    10382539506755952630  be       \n",
      "an       DET    15099054000809333061  an       \n",
      "enormous ADJ    17917224542039855524  enormous \n",
      "automobile NOUN   7211811266693931283   automobile\n"
     ]
    }
   ],
   "source": [
    "doc4 = nlp(u\"That's an enormous automobile\")\n",
    "\n",
    "show_lemmas(doc4)"
   ]
  },
  {
   "cell_type": "code",
   "execution_count": null,
   "metadata": {},
   "outputs": [],
   "source": []
  }
 ],
 "metadata": {
  "kernelspec": {
   "display_name": "Python 3",
   "language": "python",
   "name": "python3"
  },
  "language_info": {
   "codemirror_mode": {
    "name": "ipython",
    "version": 3
   },
   "file_extension": ".py",
   "mimetype": "text/x-python",
   "name": "python",
   "nbconvert_exporter": "python",
   "pygments_lexer": "ipython3",
   "version": "3.7.6"
  }
 },
 "nbformat": 4,
 "nbformat_minor": 4
}
