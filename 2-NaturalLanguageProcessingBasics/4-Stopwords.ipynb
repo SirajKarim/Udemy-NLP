{
 "cells": [
  {
   "cell_type": "code",
   "execution_count": 1,
   "metadata": {},
   "outputs": [],
   "source": [
    "import spacy"
   ]
  },
  {
   "cell_type": "code",
   "execution_count": 2,
   "metadata": {},
   "outputs": [],
   "source": [
    "nlp = spacy.load('en_core_web_sm')"
   ]
  },
  {
   "cell_type": "code",
   "execution_count": 3,
   "metadata": {},
   "outputs": [
    {
     "name": "stdout",
     "output_type": "stream",
     "text": [
      "{'six', 'each', 'under', 'why', 'are', 'third', 'well', 'almost', 'seeming', 'several', \"'re\", 'above', 'across', 'too', 'eleven', 'becoming', 'until', 'it', 'ever', 'mine', 'their', \"n't\", 'somewhere', 'except', 'n’t', 'full', 'else', 'amongst', 'out', 'off', 'its', 'someone', 'hundred', 'moreover', \"'s\", 'himself', 'on', 'formerly', 'ours', 'a', 'unless', 'he', 'beside', 'with', 'we', 'do', 'thru', 'twenty', 'if', 'of', 'less', 'see', 'am', 'besides', 'wherever', '’ve', 'she', 'these', 'against', 'by', 'can', 'others', 'where', 'down', 'hereupon', 'however', 'as', 'further', 'three', 'front', 'beforehand', 'no', 'during', 'around', 'thus', 'who', 'nobody', 'really', 'cannot', 'therein', 'again', 'always', 'every', 'used', 'been', 'go', 'not', 'our', 'nor', 'becomes', 'myself', 'in', 'anyway', 'everything', 'into', 'even', 'which', 'eight', 'without', 'yourself', \"'d\", 'few', 'throughout', 'all', 'thence', 'none', 'must', 'they', 'anything', 'over', 'us', 'your', '‘ve', 'just', 'another', 'hence', 'last', 'from', '‘ll', 'also', 'her', 'thereupon', 'whatever', 'seems', '’ll', 'nine', 'whereby', 'everyone', 'nevertheless', '‘d', 'whose', 'what', 'then', 'anyone', 'but', 'fifteen', 'whence', 'part', 'and', 'own', 'there', 'fifty', 'would', 'still', 'done', 'about', 'his', 'when', 'yourselves', 'whether', 'you', 'may', 'those', 'whole', 'regarding', 'least', 'whereafter', 'something', 'other', 'being', 'along', 'anyhow', 'within', 'ourselves', 'below', 'latter', 're', 'n‘t', 'because', 'back', 'whereas', 'quite', 'somehow', '’re', 'that', 'via', 'more', \"'ve\", 'bottom', 'has', 'please', 'doing', 'now', '‘m', 'since', 'any', 'only', 'while', 'wherein', 'seemed', 'sometimes', 'to', 'this', 'become', 'or', 'an', 'already', 'various', 'twelve', 'whither', 'anywhere', 'ca', 'neither', 'say', '’m', 'two', 'otherwise', 'same', 'some', 'whom', 'put', '‘re', \"'m\", 'such', 'thereafter', 'through', 'therefore', 'afterwards', 'was', 'sixty', 'mostly', 'toward', 'after', 'per', 'together', 'latterly', 'everywhere', 'much', '’d', 'behind', 'had', 'using', 'how', 'before', 'became', 'should', \"'ll\", 'though', 'keep', 'both', 'itself', 'first', 'one', 'rather', 'serious', 'noone', 'so', 'could', 'alone', 'next', 'is', 'many', 'four', 'once', 'him', 'did', 'take', 'hereby', 'nothing', 'make', 'among', 'five', 'amount', 'name', 'elsewhere', 'empty', 'will', 'seem', 'show', 'here', 'me', 'the', 'have', 'up', 'does', 'move', 'never', 'due', 'most', 'herein', 'herself', 'indeed', 'whenever', 'for', 'yet', 'call', 'upon', '’s', 'be', 'themselves', 'whoever', 'were', 'them', 'hers', 'nowhere', 'although', 'give', 'whereupon', 'beyond', 'i', 'than', 'side', 'namely', 'sometime', 'perhaps', 'at', 'either', 'former', 'between', 'onto', 'enough', 'top', 'very', 'hereafter', 'made', 'thereby', 'get', 'my', 'might', 'yours', 'forty', 'ten', 'often', '‘s', 'towards', 'meanwhile'}\n"
     ]
    }
   ],
   "source": [
    "print(nlp.Defaults.stop_words)"
   ]
  },
  {
   "cell_type": "code",
   "execution_count": 4,
   "metadata": {},
   "outputs": [
    {
     "data": {
      "text/plain": [
       "326"
      ]
     },
     "execution_count": 4,
     "metadata": {},
     "output_type": "execute_result"
    }
   ],
   "source": [
    "len(nlp.Defaults.stop_words)"
   ]
  },
  {
   "cell_type": "code",
   "execution_count": 5,
   "metadata": {},
   "outputs": [],
   "source": [
    "nlp.Defaults.stop_words.add('btw')"
   ]
  },
  {
   "cell_type": "code",
   "execution_count": 13,
   "metadata": {},
   "outputs": [],
   "source": [
    "nlp.vocab['btw'].is_stop = True"
   ]
  },
  {
   "cell_type": "code",
   "execution_count": 14,
   "metadata": {},
   "outputs": [
    {
     "data": {
      "text/plain": [
       "326"
      ]
     },
     "execution_count": 14,
     "metadata": {},
     "output_type": "execute_result"
    }
   ],
   "source": [
    "len(nlp.Defaults.stop_words)"
   ]
  },
  {
   "cell_type": "code",
   "execution_count": 15,
   "metadata": {},
   "outputs": [
    {
     "data": {
      "text/plain": [
       "True"
      ]
     },
     "execution_count": 15,
     "metadata": {},
     "output_type": "execute_result"
    }
   ],
   "source": [
    "nlp.vocab['btw'].is_stop"
   ]
  },
  {
   "cell_type": "code",
   "execution_count": 19,
   "metadata": {},
   "outputs": [],
   "source": [
    "nlp.Defaults.stop_words.remove('btw')"
   ]
  },
  {
   "cell_type": "code",
   "execution_count": 20,
   "metadata": {},
   "outputs": [
    {
     "data": {
      "text/plain": [
       "326"
      ]
     },
     "execution_count": 20,
     "metadata": {},
     "output_type": "execute_result"
    }
   ],
   "source": [
    "len(nlp.Defaults.stop_words)"
   ]
  },
  {
   "cell_type": "code",
   "execution_count": 21,
   "metadata": {},
   "outputs": [],
   "source": [
    "nlp.vocab['btw'].is_stop = False"
   ]
  },
  {
   "cell_type": "code",
   "execution_count": 22,
   "metadata": {},
   "outputs": [
    {
     "data": {
      "text/plain": [
       "False"
      ]
     },
     "execution_count": 22,
     "metadata": {},
     "output_type": "execute_result"
    }
   ],
   "source": [
    "nlp.vocab['btw'].is_stop"
   ]
  },
  {
   "cell_type": "code",
   "execution_count": null,
   "metadata": {},
   "outputs": [],
   "source": []
  }
 ],
 "metadata": {
  "kernelspec": {
   "display_name": "Python 3",
   "language": "python",
   "name": "python3"
  },
  "language_info": {
   "codemirror_mode": {
    "name": "ipython",
    "version": 3
   },
   "file_extension": ".py",
   "mimetype": "text/x-python",
   "name": "python",
   "nbconvert_exporter": "python",
   "pygments_lexer": "ipython3",
   "version": "3.7.6"
  }
 },
 "nbformat": 4,
 "nbformat_minor": 4
}
